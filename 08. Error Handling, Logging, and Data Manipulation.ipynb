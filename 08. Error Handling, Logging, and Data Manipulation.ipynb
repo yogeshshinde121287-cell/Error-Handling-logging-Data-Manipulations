{
 "cells": [
  {
   "cell_type": "code",
   "execution_count": null,
   "id": "f9be04fc-9809-4856-a5a2-bf303583e229",
   "metadata": {},
   "outputs": [],
   "source": [
    "## Question 1: What is the difference between multithreading and multiprocessing?"
   ]
  },
  {
   "cell_type": "raw",
   "id": "802cb0d0-e50b-4082-9836-0c3d1f0a04e2",
   "metadata": {},
   "source": [
    "When people say multithreading they mean running many threads inside one process. Threads live in the same memory space, so they can see and change the same objects. This makes it very easy to share data, but it also means you must be careful to avoid race conditions where two threads change the same thing at the same time. In the common Python implementation that most of us use, there is a global interpreter lock. That lock allows only one thread to execute Python bytecode at a time. Because of this, threads shine when the task waits for input output such as reading files, calling web services, or talking to a database. While one thread waits, another thread can run and keep the program responsive.\n",
    "\n",
    "Multiprocessing means you start separate processes. Each process has its own memory and its own Python interpreter. This avoids the global interpreter lock and allows true parallel work on many cpu cores. It is very good for heavy number crunching like image processing or large scientific calculations. Since processes do not share memory directly, they talk by sending messages or sharing data through special objects. This is safer but a little heavier on memory and startup time.\n",
    "\n",
    "A simple way to choose is to ask what blocks your task. If it mostly waits for input output then threads are simple and effective. If it mostly burns cpu time then processes will scale better across cores. You can also mix both in a larger system."
   ]
  },
  {
   "cell_type": "code",
   "execution_count": 2,
   "id": "e6bb7537-5798-441c-9680-3ad2874be00e",
   "metadata": {},
   "outputs": [
    {
     "name": "stdout",
     "output_type": "stream",
     "text": [
      "Sequential seconds: 1.81\n",
      "Threads seconds: 0.32\n"
     ]
    }
   ],
   "source": [
    "# Example that is notebook friendly\n",
    "# Compare sequential and threads without using processes\n",
    "import time\n",
    "from concurrent.futures import ThreadPoolExecutor\n",
    "\n",
    "def tiny_task(t):\n",
    "    # Wait to imitate input output\n",
    "    time.sleep(0.3)\n",
    "    # Do a tiny cpu loop so it is not empty\n",
    "    s = 0\n",
    "    for i in range(10000):\n",
    "        s += i * i\n",
    "    return s\n",
    "\n",
    "# Sequential\n",
    "start = time.time()\n",
    "_ = [tiny_task(i) for i in range(6)]\n",
    "dur_seq = time.time() - start\n",
    "print(f\"Sequential seconds: {dur_seq:.2f}\")\n",
    "\n",
    "# Threads\n",
    "start = time.time()\n",
    "with ThreadPoolExecutor(max_workers=6) as ex:\n",
    "    _ = list(ex.map(tiny_task, range(6)))\n",
    "dur_thr = time.time() - start\n",
    "print(f\"Threads seconds: {dur_thr:.2f}\")"
   ]
  },
  {
   "cell_type": "code",
   "execution_count": null,
   "id": "0ab1049c-0edf-4a35-bad1-234e6d10b018",
   "metadata": {},
   "outputs": [],
   "source": [
    "## Question 2: What are the challenges associated with memory management in Python?"
   ]
  },
  {
   "cell_type": "raw",
   "id": "4daec8cd-0e2e-41bf-aeca-78615fe394df",
   "metadata": {},
   "source": [
    "Python tries to manage memory for you so you can focus on logic. Every object keeps a small counter that tells how many places still reference it. When that count goes to zero, the memory can be freed right away. Sometimes objects reference each other in a cycle, which keeps the count from reaching zero even if you no longer need them. To handle these cycles, Python runs a garbage collector that scans for groups of objects that only point to each other and then frees them together. Memory can still be wasted when you hold references in global lists or caches that you forget to clear. Large data structures can also stress memory because each Python object has overhead for type and reference count. Using arrays from numpy can help because they store raw numbers in a compact block. You can also reduce waste by using context managers for files and network connections so they are closed fast. If you suspect a leak, you can take snapshots of memory and compare them while you test."
   ]
  },
  {
   "cell_type": "code",
   "execution_count": 3,
   "id": "16e2516d-7dc5-4c2b-af81-4b29eab6365a",
   "metadata": {},
   "outputs": [
    {
     "name": "stdout",
     "output_type": "stream",
     "text": [
      "Approx list size bytes: 4167352\n",
      "First three values: [0, 1, 2]\n",
      "Garbage collection requested\n"
     ]
    }
   ],
   "source": [
    "# Show creation and cleanup of a large list\n",
    "import sys  # to check size\n",
    "import gc   # to trigger garbage collection\n",
    "\n",
    "# Create a large list\n",
    "big = [i for i in range(500000)]  # half a million integers\n",
    "print('Approx list size bytes:', sys.getsizeof(big))  # size of the container only\n",
    "print('First three values:', big[:3])  # peek at data\n",
    "\n",
    "# Drop the reference so the list can be freed\n",
    "del big  # remove the only name that pointed to the list\n",
    "\n",
    "# Force a garbage collection cycle\n",
    "gc.collect()  # ask the collector to run now\n",
    "print('Garbage collection requested')  # confirm action"
   ]
  },
  {
   "cell_type": "code",
   "execution_count": null,
   "id": "8536eda7-e6b0-4606-ae1d-53ed7d15d0ca",
   "metadata": {},
   "outputs": [],
   "source": [
    "## Question 3: Write a Python program that logs an error message to a log file when a division by zero exception occurs."
   ]
  },
  {
   "cell_type": "raw",
   "id": "b978114e-08c8-4d3e-bd8f-4fc3142d7cff",
   "metadata": {},
   "source": [
    "When you divide by zero Python raises an exception that stops the program unless you handle it. You can wrap the risky code in a try block and add an except block that runs only if the error happens. The logging module lets you record the full message to a file so you can read it later. This is better than printing because logs can be kept for audit and can include time and severity."
   ]
  },
  {
   "cell_type": "code",
   "execution_count": 4,
   "id": "13b1025a-ec7f-4ce0-ae59-d7f60438486d",
   "metadata": {},
   "outputs": [
    {
     "name": "stdout",
     "output_type": "stream",
     "text": [
      "The error was logged to assignment_log.log\n"
     ]
    }
   ],
   "source": [
    "# Log a division by zero into a file\n",
    "import logging  # logging writes messages to a file\n",
    "\n",
    "# Create a basic configuration for logging\n",
    "logging.basicConfig(filename='assignment_log.log', level=logging.ERROR,\n",
    "                    format='%(asctime)s %(levelname)s %(message)s')  # set file, level, and format\n",
    "\n",
    "try:  # start a protected block\n",
    "    a = 10  # numerator\n",
    "    b = 0   # denominator set to zero to trigger the error\n",
    "    c = a / b  # this raises an exception\n",
    "except ZeroDivisionError as e:  # handle the specific error\n",
    "    logging.error('Tried to divide by zero', exc_info=True)  # write message and stack trace\n",
    "    print('The error was logged to assignment_log.log')  # user friendly message"
   ]
  },
  {
   "cell_type": "code",
   "execution_count": null,
   "id": "31dde83a-3d81-4bef-a584-34974aa4dae9",
   "metadata": {},
   "outputs": [],
   "source": [
    "## Question 4: Write a Python program that reads from one file and writes its content to another file."
   ]
  },
  {
   "cell_type": "raw",
   "id": "4edf8e04-d70e-4c3b-a1aa-7470c717e2cf",
   "metadata": {},
   "source": [
    "Copying the contents of one file to another is a common task. A context manager with the with keyword opens the file and then closes it for you even if an error happens. You can read the entire content at once for small files or stream in chunks for large files. "
   ]
  },
  {
   "cell_type": "code",
   "execution_count": 6,
   "id": "4766af60-cbd1-4515-bad8-06b22fca2a4d",
   "metadata": {},
   "outputs": [
    {
     "name": "stdout",
     "output_type": "stream",
     "text": [
      "Copy complete. Open destination_demo.txt to check.\n"
     ]
    }
   ],
   "source": [
    "# Read from a source file and write to a destination file\n",
    "from pathlib import Path  # path tools for safer file handling\n",
    "\n",
    "# Create a small source file for the demo\n",
    "src_path = Path('source_demo.txt')  # path object for the source\n",
    "with src_path.open('w', encoding='utf-8') as f:  # open for writing text\n",
    "    f.write('Hello there. This is a short file that we will copy.\\n')  # write a line\n",
    "    f.write('Second line for testing copy.\\n')  # write another line\n",
    "\n",
    "# Define destination path\n",
    "dst_path = Path('destination_demo.txt')  # new file name\n",
    "\n",
    "# Now copy by reading then writing\n",
    "with src_path.open('r', encoding='utf-8') as src:  # open source for reading\n",
    "    data = src.read()  # read the whole content into memory\n",
    "\n",
    "with dst_path.open('w', encoding='utf-8') as dst:  # open destination for writing\n",
    "    dst.write(data)  # write the content\n",
    "\n",
    "print(\"Copy complete. Open destination_demo.txt to check.\")"
   ]
  },
  {
   "cell_type": "code",
   "execution_count": null,
   "id": "947a9434-948a-491d-b4a5-c7d4bf1266a8",
   "metadata": {},
   "outputs": [],
   "source": [
    "## Question 5: Write a program that handles both IndexError and KeyError using a try except block."
   ]
  },
  {
   "cell_type": "raw",
   "id": "77f8f762-1099-47ce-b8e6-0d3e6ec2cfc9",
   "metadata": {},
   "source": [
    "An Index error happens when you ask for a position that does not exist in a list or a tuple. A Key error happens when you ask for a key that does not exist in a dictionary. You can protect your code with a try block and catch these cases with separate except blocks so you can give a clear message for each case. You can also add an else block that runs only when no error occurs, and a finally block that runs in every case to release resources."
   ]
  },
  {
   "cell_type": "code",
   "execution_count": 13,
   "id": "6bad7497-1c42-49c4-b3f1-e8dc8083c039",
   "metadata": {},
   "outputs": [
    {
     "name": "stdout",
     "output_type": "stream",
     "text": [
      "You asked for a position that is outside the list\n",
      "Cleanup complete\n"
     ]
    }
   ],
   "source": [
    "# Handle index and key errors with friendly messages\n",
    "items = [10, 20, 30]  # a short list with three items\n",
    "record = {'name': 'Anita', 'age': 28}  # a small dictionary\n",
    "\n",
    "try:  # try the risky operations\n",
    "    val = items[5]  # this position does not exist\n",
    "    city = record['city']  # this key does not exist\n",
    "except IndexError as ie:  # handle missing position\n",
    "    print('You asked for a position that is outside the list')  # message for index issue\n",
    "except KeyError as ke:  # handle missing key\n",
    "    print('You asked for a key that is not present in the dictionary')  # message for key issue\n",
    "else:  # runs only if no exception\n",
    "    print('Both lookups worked. Values are', val, city)  # success path\n",
    "finally:  # runs in every case\n",
    "    print('Cleanup complete')  # final message"
   ]
  },
  {
   "cell_type": "code",
   "execution_count": null,
   "id": "283ccd4b-597b-4d24-b865-d13772563b17",
   "metadata": {},
   "outputs": [],
   "source": [
    "## Question 6: What are the differences between NumPy arrays and Python lists?"
   ]
  },
  {
   "cell_type": "raw",
   "id": "a6ee12d1-8c9e-4780-93cd-838e9d9f8a01",
   "metadata": {},
   "source": [
    "A Python list can hold values of many types and can grow and shrink as you like. That flexibility comes with overhead in memory and speed for numeric work. A numpy array stores numbers of one fixed type in a single contiguous block of memory which makes arithmetic very fast. When you add or multiply a numpy array, the library applies the operation to every element in compiled code, which is called vectorization. This avoids slow loops in Python space and reduces memory overhead. Lists still shine for mixed data or small tasks where the speed difference is not important."
   ]
  },
  {
   "cell_type": "code",
   "execution_count": 7,
   "id": "c68ae6c8-384f-40a5-b77b-ea1da56983f4",
   "metadata": {},
   "outputs": [
    {
     "name": "stdout",
     "output_type": "stream",
     "text": [
      "List result: [2, 4, 6, 8]\n",
      "Array result: [2 4 6 8]\n",
      "List container bytes: 88\n",
      "Array bytes: 32\n"
     ]
    }
   ],
   "source": [
    "# Compare list and numpy array for simple math and memory\n",
    "import numpy as np  # numerical library\n",
    "import sys          # for memory size\n",
    "\n",
    "py_list = [1, 2, 3, 4]  # a simple list\n",
    "np_array = np.array([1, 2, 3, 4], dtype=np.int64)  # a numpy array of integers\n",
    "\n",
    "# Multiply values by two\n",
    "doubled_list = [x * 2 for x in py_list]  # loop in Python\n",
    "doubled_array = np_array * 2  # vectorized math in compiled code\n",
    "print('List result:', doubled_list)  # show list result\n",
    "print('Array result:', doubled_array)  # show array result\n",
    "\n",
    "# Compare memory usage\n",
    "print('List container bytes:', sys.getsizeof(py_list))  # size of list object\n",
    "print('Array bytes:', np_array.nbytes)  # bytes used by array data"
   ]
  },
  {
   "cell_type": "code",
   "execution_count": null,
   "id": "af336d1e-839f-4600-80ec-03268e4e25bb",
   "metadata": {},
   "outputs": [],
   "source": [
    "## Question 7: Explain the difference between apply and map in Pandas."
   ]
  },
  {
   "cell_type": "raw",
   "id": "db923f88-8904-433c-87f5-9decaa07657f",
   "metadata": {},
   "source": [
    "In Pandas, map works on a single Series. It applies a function to each element and returns a new Series. You can also pass a dictionary to map values to new values. Apply is more general. You can call it on a Series which behaves similar to map, or you can call it on a DataFrame and choose the axis so the function runs on each column or on each row. Apply is flexible but can be slower than using built in vectorized operations, so you should use vectorized code when possible and fall back to apply only when the logic is complex."
   ]
  },
  {
   "cell_type": "code",
   "execution_count": 11,
   "id": "1ebcf36e-449d-44d6-86f5-659ca0929a1b",
   "metadata": {},
   "outputs": [
    {
     "name": "stdout",
     "output_type": "stream",
     "text": [
      "Scores after map:\n",
      "0    75\n",
      "1    90\n",
      "2    95\n",
      "Name: score, dtype: int64\n",
      "\n",
      "Scores after apply on the score column:\n",
      "   score\n",
      "0     80\n",
      "1     95\n",
      "2    100\n",
      "\n",
      "Row labels:\n",
      "Arun has score 70\n",
      "Beena has score 85\n",
      "Chirag has score 90\n"
     ]
    }
   ],
   "source": [
    "# Show map on a Series and apply on a DataFrame\n",
    "import pandas as pd  # data analysis library\n",
    "\n",
    "# Make a small table\n",
    "df = pd.DataFrame({\"name\": [\"Arun\", \"Beena\", \"Chirag\"],\"score\": [70, 85, 90]})\n",
    "\n",
    "# Use map to change one Series element by element\n",
    "curved = df[\"score\"].map(lambda s: s + 5)  # add five to each score\n",
    "print(\"Scores after map:\")\n",
    "print(curved)\n",
    "\n",
    "# Use apply on the DataFrame to change the score column\n",
    "added = df[[\"score\"]].apply(lambda col: col + 10)  # add ten to the score column\n",
    "print(\"\\nScores after apply on the score column:\")\n",
    "print(added)\n",
    "\n",
    "# Use apply on rows to build a sentence for each row\n",
    "def label_row(row):\n",
    "    return \"{} has score {}\".format(row[\"name\"], row[\"score\"])\n",
    "\n",
    "sentences = df.apply(label_row, axis=1)\n",
    "print(\"\\nRow labels:\")\n",
    "for line in sentences:\n",
    "    print(line)"
   ]
  },
  {
   "cell_type": "code",
   "execution_count": 12,
   "id": "17bdf4bc-62b6-4b2e-9f5d-c802f02ff977",
   "metadata": {},
   "outputs": [
    {
     "name": "stdout",
     "output_type": "stream",
     "text": [
      "\n",
      "Table with new columns:\n",
      "     name  score  score_plus5_map  score_plus10_apply\n",
      "0    Arun     70               75                  80\n",
      "1   Beena     85               90                  95\n",
      "2  Chirag     90               95                 100\n"
     ]
    }
   ],
   "source": [
    "df[\"score_plus5_map\"] = df[\"score\"].map(lambda s: s + 5)\n",
    "df[\"score_plus10_apply\"] = df[\"score\"].apply(lambda s: s + 10)\n",
    "print(\"\\nTable with new columns:\")\n",
    "print(df)"
   ]
  },
  {
   "cell_type": "code",
   "execution_count": null,
   "id": "366506a0-727a-4440-9d7b-ded0f343f830",
   "metadata": {},
   "outputs": [],
   "source": [
    "## Question 8: Create a histogram using Seaborn to visualize a distribution."
   ]
  },
  {
   "cell_type": "raw",
   "id": "76763f98-55df-4355-a422-2e4e49c372ca",
   "metadata": {},
   "source": [
    "A histogram shows how your values are spread across ranges. It counts how many observations fall into each bin and draws bars for those counts. If you also show a smooth density curve you get an idea of the overall shape. "
   ]
  },
  {
   "cell_type": "code",
   "execution_count": 15,
   "id": "435058b1-14af-408e-aa84-88c468d1b035",
   "metadata": {},
   "outputs": [
    {
     "data": {
      "image/png": "[encoded data removed]",
      "text/plain": [
       "<Figure size 640x480 with 1 Axes>"
      ]
     },
     "metadata": {},
     "output_type": "display_data"
    }
   ],
   "source": [
    "import seaborn as sns  # plotting helper built on Matplotlib\n",
    "import matplotlib.pyplot as plt  # base plotting library\n",
    "import numpy as np  # to make random data\n",
    "\n",
    "data = np.random.normal(loc=50, scale=10, size=500)  # create random numbers around fifty\n",
    "sns.histplot(data, bins=20, kde=True, color='skyblue')  # draw histogram and density curve\n",
    "plt.title('Distribution of random values')  # title\n",
    "plt.xlabel('Value')  # x label\n",
    "plt.ylabel('Count')  # y label\n",
    "plt.show()  # display the chart"
   ]
  },
  {
   "cell_type": "code",
   "execution_count": null,
   "id": "238464d8-de8f-483f-8735-ee282c583928",
   "metadata": {},
   "outputs": [],
   "source": [
    "## Question 9: Use Pandas to load a CSV file and display its first five rows."
   ]
  },
  {
   "cell_type": "raw",
   "id": "e8c479c8-88d5-4c6b-8a6b-beff796bdcc1",
   "metadata": {},
   "source": [
    "A comma separated values file is a simple text file where each row holds fields separated by commas. Pandas can read this format directly into a DataFrame which is a table like view. Once loaded, the head function shows the first five rows so you can confirm the data looks right."
   ]
  },
  {
   "cell_type": "code",
   "execution_count": 16,
   "id": "9771f3c6-a0b6-4a40-9b2b-fdc157698ac4",
   "metadata": {},
   "outputs": [
    {
     "name": "stdout",
     "output_type": "stream",
     "text": [
      "   id    name  age\n",
      "0   1    Asha   23\n",
      "1   2    Bala   31\n",
      "2   3  Chirag   29\n",
      "3   4     Dev   26\n",
      "4   5    Esha   35\n"
     ]
    }
   ],
   "source": [
    "# Create a small CSV then load it and show the first five rows\n",
    "import pandas as pd  # data library\n",
    "\n",
    "sample = pd.DataFrame({  # build a tiny table\n",
    "    'id': [1, 2, 3, 4, 5],\n",
    "    'name': ['Asha', 'Bala', 'Chirag', 'Dev', 'Esha'],\n",
    "    'age': [23, 31, 29, 26, 35]\n",
    "})\n",
    "sample.to_csv('people.csv', index=False)  # write to a CSV file\n",
    "\n",
    "df = pd.read_csv('people.csv')  # read the CSV file\n",
    "print(df.head())  # show the first five rows"
   ]
  },
  {
   "cell_type": "code",
   "execution_count": null,
   "id": "0aee5c39-cb69-41aa-82ee-4c67b6886aff",
   "metadata": {},
   "outputs": [],
   "source": [
    "## Question 10: Calculate the correlation matrix using Seaborn and visualize it with a heatmap."
   ]
  },
  {
   "cell_type": "raw",
   "id": "c75ad494-d876-49b3-bde5-d82ed6738dc3",
   "metadata": {},
   "source": [
    "Correlation measures how two numeric columns move together. A value near plus one means they tend to rise and fall together. A value near minus one means when one goes up the other tends to go down. A value near zero means there is little linear relation. A heatmap paints these values as colors so you can see patterns quickly across many columns. We will create a small table with related columns and then draw a heatmap with Seaborn."
   ]
  },
  {
   "cell_type": "code",
   "execution_count": 17,
   "id": "c20f3169-8b4c-4405-8fb5-696d31a18f48",
   "metadata": {},
   "outputs": [
    {
     "data": {
      "image/png": "[encoded data removed]",
      "text/plain": [
       "<Figure size 640x480 with 2 Axes>"
      ]
     },
     "metadata": {},
     "output_type": "display_data"
    }
   ],
   "source": [
    "# Compute correlation matrix and plot as heatmap\n",
    "import numpy as np  # for random numbers\n",
    "import pandas as pd  # for DataFrame\n",
    "import seaborn as sns  # for heatmap\n",
    "import matplotlib.pyplot as plt  # for figure\n",
    "\n",
    "rng = np.random.default_rng(42)  # random generator\n",
    "base = rng.normal(0, 1, 300)  # base series\n",
    "x = base + rng.normal(0, 0.3, 300)  # column related to base\n",
    "y = base * 0.5 + rng.normal(0, 0.4, 300)  # another related column\n",
    "z = rng.normal(0, 1, 300)  # mostly independent column\n",
    "df = pd.DataFrame({'x': x, 'y': y, 'z': z})  # table with three columns\n",
    "corr = df.corr(numeric_only=True)  # compute correlation matrix\n",
    "sns.heatmap(corr, annot=True, cmap='coolwarm', vmin=-1, vmax=1)  # draw heatmap with labels\n",
    "plt.title('Correlation heatmap')  # title\n",
    "plt.show()  # display chart"
   ]
  }
 ],
 "metadata": {
  "kernelspec": {
   "display_name": "Python [conda env:base] *",
   "language": "python",
   "name": "conda-base-py"
  },
  "language_info": {
   "codemirror_mode": {
    "name": "ipython",
    "version": 3
   },
   "file_extension": ".py",
   "mimetype": "text/x-python",
   "name": "python",
   "nbconvert_exporter": "python",
   "pygments_lexer": "ipython3",
   "version": "3.13.5"
  }
 },
 "nbformat": 4,
 "nbformat_minor": 5
}
